{
  "cells": [
    {
      "cell_type": "markdown",
      "metadata": {},
      "source": [
        "### Tarea 6: Opcional (10% del trabajo)\n",
        "\n",
        "Entrenar el Spacy con el corpus cess-esp para realizar POS tagging en español y obtener las prestaciones del etiquetador en términos de accuracy."
      ]
    },
    {
      "cell_type": "code",
      "execution_count": 2,
      "metadata": {
        "colab": {
          "base_uri": "https://localhost:8080/"
        },
        "id": "5OmUOwYhnpxl",
        "outputId": "0702825c-efa9-41ed-815f-e7f20910c968"
      },
      "outputs": [
        {
          "name": "stdout",
          "output_type": "stream",
          "text": [
            "Requirement already satisfied: es_core_news_sm in /usr/local/lib/python3.10/dist-packages (3.1.0)\n",
            "Requirement already satisfied: spacy<3.2.0,>=3.1.0 in /usr/local/lib/python3.10/dist-packages (from es_core_news_sm) (3.1.7)\n",
            "Requirement already satisfied: spacy-legacy<3.1.0,>=3.0.8 in /usr/local/lib/python3.10/dist-packages (from spacy<3.2.0,>=3.1.0->es_core_news_sm) (3.0.12)\n",
            "Requirement already satisfied: murmurhash<1.1.0,>=0.28.0 in /usr/local/lib/python3.10/dist-packages (from spacy<3.2.0,>=3.1.0->es_core_news_sm) (1.0.10)\n",
            "Requirement already satisfied: cymem<2.1.0,>=2.0.2 in /usr/local/lib/python3.10/dist-packages (from spacy<3.2.0,>=3.1.0->es_core_news_sm) (2.0.8)\n",
            "Requirement already satisfied: preshed<3.1.0,>=3.0.2 in /usr/local/lib/python3.10/dist-packages (from spacy<3.2.0,>=3.1.0->es_core_news_sm) (3.0.9)\n",
            "Requirement already satisfied: thinc<8.1.0,>=8.0.12 in /usr/local/lib/python3.10/dist-packages (from spacy<3.2.0,>=3.1.0->es_core_news_sm) (8.0.17)\n",
            "Requirement already satisfied: blis<0.8.0,>=0.4.0 in /usr/local/lib/python3.10/dist-packages (from spacy<3.2.0,>=3.1.0->es_core_news_sm) (0.7.11)\n",
            "Requirement already satisfied: wasabi<1.1.0,>=0.8.1 in /usr/local/lib/python3.10/dist-packages (from spacy<3.2.0,>=3.1.0->es_core_news_sm) (0.10.1)\n",
            "Requirement already satisfied: srsly<3.0.0,>=2.4.1 in /usr/local/lib/python3.10/dist-packages (from spacy<3.2.0,>=3.1.0->es_core_news_sm) (2.4.8)\n",
            "Requirement already satisfied: catalogue<2.1.0,>=2.0.6 in /usr/local/lib/python3.10/dist-packages (from spacy<3.2.0,>=3.1.0->es_core_news_sm) (2.0.10)\n",
            "Requirement already satisfied: typer<0.5.0,>=0.3.0 in /usr/local/lib/python3.10/dist-packages (from spacy<3.2.0,>=3.1.0->es_core_news_sm) (0.4.2)\n",
            "Requirement already satisfied: pathy>=0.3.5 in /usr/local/lib/python3.10/dist-packages (from spacy<3.2.0,>=3.1.0->es_core_news_sm) (0.10.3)\n",
            "Requirement already satisfied: smart-open<7.0.0,>=5.2.1 in /usr/local/lib/python3.10/dist-packages (from spacy<3.2.0,>=3.1.0->es_core_news_sm) (6.4.0)\n",
            "Requirement already satisfied: tqdm<5.0.0,>=4.38.0 in /usr/local/lib/python3.10/dist-packages (from spacy<3.2.0,>=3.1.0->es_core_news_sm) (4.66.1)\n",
            "Requirement already satisfied: numpy>=1.15.0 in /usr/local/lib/python3.10/dist-packages (from spacy<3.2.0,>=3.1.0->es_core_news_sm) (1.23.5)\n",
            "Requirement already satisfied: requests<3.0.0,>=2.13.0 in /usr/local/lib/python3.10/dist-packages (from spacy<3.2.0,>=3.1.0->es_core_news_sm) (2.31.0)\n",
            "Requirement already satisfied: pydantic!=1.8,!=1.8.1,<1.9.0,>=1.7.4 in /usr/local/lib/python3.10/dist-packages (from spacy<3.2.0,>=3.1.0->es_core_news_sm) (1.8.2)\n",
            "Requirement already satisfied: jinja2 in /usr/local/lib/python3.10/dist-packages (from spacy<3.2.0,>=3.1.0->es_core_news_sm) (3.1.2)\n",
            "Requirement already satisfied: setuptools in /usr/local/lib/python3.10/dist-packages (from spacy<3.2.0,>=3.1.0->es_core_news_sm) (67.7.2)\n",
            "Requirement already satisfied: packaging>=20.0 in /usr/local/lib/python3.10/dist-packages (from spacy<3.2.0,>=3.1.0->es_core_news_sm) (23.2)\n",
            "Requirement already satisfied: typing-extensions>=3.7.4.3 in /usr/local/lib/python3.10/dist-packages (from pydantic!=1.8,!=1.8.1,<1.9.0,>=1.7.4->spacy<3.2.0,>=3.1.0->es_core_news_sm) (4.5.0)\n",
            "Requirement already satisfied: charset-normalizer<4,>=2 in /usr/local/lib/python3.10/dist-packages (from requests<3.0.0,>=2.13.0->spacy<3.2.0,>=3.1.0->es_core_news_sm) (3.3.1)\n",
            "Requirement already satisfied: idna<4,>=2.5 in /usr/local/lib/python3.10/dist-packages (from requests<3.0.0,>=2.13.0->spacy<3.2.0,>=3.1.0->es_core_news_sm) (3.4)\n",
            "Requirement already satisfied: urllib3<3,>=1.21.1 in /usr/local/lib/python3.10/dist-packages (from requests<3.0.0,>=2.13.0->spacy<3.2.0,>=3.1.0->es_core_news_sm) (2.0.7)\n",
            "Requirement already satisfied: certifi>=2017.4.17 in /usr/local/lib/python3.10/dist-packages (from requests<3.0.0,>=2.13.0->spacy<3.2.0,>=3.1.0->es_core_news_sm) (2023.7.22)\n",
            "Requirement already satisfied: click<9.0.0,>=7.1.1 in /usr/local/lib/python3.10/dist-packages (from typer<0.5.0,>=0.3.0->spacy<3.2.0,>=3.1.0->es_core_news_sm) (8.1.7)\n",
            "Requirement already satisfied: MarkupSafe>=2.0 in /usr/local/lib/python3.10/dist-packages (from jinja2->spacy<3.2.0,>=3.1.0->es_core_news_sm) (2.1.3)\n"
          ]
        },
        {
          "name": "stderr",
          "output_type": "stream",
          "text": [
            "[nltk_data] Downloading package cess_esp to /root/nltk_data...\n",
            "[nltk_data]   Package cess_esp is already up-to-date!\n"
          ]
        },
        {
          "data": {
            "text/plain": [
              "True"
            ]
          },
          "execution_count": 2,
          "metadata": {},
          "output_type": "execute_result"
        }
      ],
      "source": [
        "# Importar las bibliotecas necesarias\n",
        "import nltk\n",
        "import json\n",
        "import spacy\n",
        "from nltk.corpus import cess_esp\n",
        "from spacy.tokens import Doc\n",
        "from spacy.training import Example\n",
        "!pip install es_core_news_sm\n",
        "\n",
        "# Descargar el corpus CESS-ESP\n",
        "nltk.download('cess_esp')\n"
      ]
    },
    {
      "cell_type": "code",
      "execution_count": 10,
      "metadata": {
        "id": "eia0oqRPoLro"
      },
      "outputs": [],
      "source": [
        "# Obtener las oraciones etiquetadas\n",
        "sentences = cess_esp.tagged_sents()\n",
        "\n",
        "# Convertir las oraciones al formato de spaCy y dividir en entrenamiento y prueba\n",
        "def convert_to_spacy_format(sentences):\n",
        "    data = []\n",
        "    for sent in sentences:\n",
        "        words, tags = zip(*sent)\n",
        "        data.append((\" \".join(words), {\"words\": words, \"tags\": tags}))\n",
        "    return data\n",
        "\n",
        "all_data = convert_to_spacy_format(sentences)\n",
        "\n",
        "# Dividir en entrenamiento y prueba\n",
        "split = int(0.8 * len(all_data))\n",
        "train_data = all_data[:split]\n",
        "test_data = all_data[split:]"
      ]
    },
    {
      "cell_type": "code",
      "execution_count": 11,
      "metadata": {
        "id": "eS5Qn37BoOXA"
      },
      "outputs": [],
      "source": [
        "# Cargar el modelo base en español y preparar los datos\n",
        "nlp = spacy.blank(\"es\")\n",
        "\n",
        "# Añadir el etiquetador al pipeline\n",
        "nlp.add_pipe(\"tagger\")\n",
        "\n",
        "# Añadir las etiquetas al etiquetador\n",
        "tagger = nlp.get_pipe(\"tagger\")\n",
        "for _, annotations in train_data:\n",
        "    for tag in annotations.get(\"tags\"):\n",
        "        tagger.add_label(tag)\n",
        "\n",
        "# Entrenar el modelo\n",
        "optimizer = nlp.begin_training()\n",
        "for itn in range(10):\n",
        "    for text, annotations in train_data:\n",
        "        doc = nlp.make_doc(text)\n",
        "        example = Example.from_dict(doc, annotations)\n",
        "        nlp.update([example], drop=0.2, sgd=optimizer)\n"
      ]
    },
    {
      "cell_type": "code",
      "execution_count": 12,
      "metadata": {
        "colab": {
          "base_uri": "https://localhost:8080/"
        },
        "id": "pvTCCy6boQRF",
        "outputId": "36628459-83c7-4158-a609-4e83f328f840"
      },
      "outputs": [
        {
          "name": "stdout",
          "output_type": "stream",
          "text": [
            "Accuracy: 0.6009\n"
          ]
        }
      ],
      "source": [
        "# Evaluar el modelo en el conjunto de prueba\n",
        "correct = 0\n",
        "total = 0\n",
        "for text, annotations in test_data:\n",
        "    doc = nlp(text)\n",
        "    predicted_tags = [token.tag_ for token in doc]\n",
        "    true_tags = annotations[\"tags\"]\n",
        "    correct += sum(1 for p, t in zip(predicted_tags, true_tags) if p == t)\n",
        "    total += len(true_tags)\n",
        "\n",
        "accuracy = correct / total\n",
        "print(f\"Accuracy: {accuracy:.4f}\")\n"
      ]
    }
  ],
  "metadata": {
    "colab": {
      "provenance": []
    },
    "kernelspec": {
      "display_name": "Python 3",
      "name": "python3"
    },
    "language_info": {
      "name": "python"
    }
  },
  "nbformat": 4,
  "nbformat_minor": 0
}
